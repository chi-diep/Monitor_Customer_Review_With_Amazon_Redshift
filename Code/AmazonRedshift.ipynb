### AmazonMonitor Table
-- Creating a table to store monitor product details
CREATE TABLE AmazonMonitor (
    monitorID INTEGER IDENTITY(1, 1) PRIMARY KEY,  -- auto-increment primary key
    description VARCHAR(255) NOT NULL,             -- e.g. "27-inch Full HD monitor"
    brand VARCHAR(100) NOT NULL,                   -- brand name like Dell, Samsung
    screen_size FLOAT NOT NULL,                    -- size in inches
    resolution VARCHAR(50) NOT NULL,               -- e.g. 1920x1080
    aspect_ratio VARCHAR(10) NOT NULL,             -- e.g. 16:9
    rating FLOAT NOT NULL,                         -- average rating
    price FLOAT NOT NULL                           -- price in USD
);

-- Inserting some example monitors
INSERT INTO AmazonMonitor (monitorID, description, brand, screen_size, resolution, aspect_ratio, rating, price)
VALUES (1, '27-inch Full HD monitor with IPS display', 'Dell', 27.0, '1920x1080', '16:9', 4.5, 199.99);

INSERT INTO AmazonMonitor (monitorID, description, brand, screen_size, resolution, aspect_ratio, rating, price)
VALUES (2, '32-inch 4K Ultra HD monitor', 'Samsung', 32.0, '3840x2160', '16:9', 4.7, 399.99);
-- Changing the price of monitorID 1
UPDATE AmazonMonitor
SET price = 179.99
WHERE monitorID = 1;

-- Changing the rating of monitorID 2
UPDATE AmazonMonitor
SET rating = 4.8
WHERE monitorID = 2;
-- Get everything from AmazonMonitor
SELECT * FROM AmazonMonitor;

-- Only select brand, size, price if rating is >= 4.5
SELECT brand, screen_size, price
FROM AmazonMonitor
WHERE rating >= 4.5;

-- Find monitors larger than 30 inches
SELECT monitorID, description, screen_size
FROM AmazonMonitor
WHERE screen_size > 30;

-- Get monitors with a specific resolution
SELECT monitorID, brand, screen_size, price
FROM AmazonMonitor
WHERE resolution = '1920x1080';

-- Find monitors in a specific price range
SELECT monitorID, description, brand, price
FROM AmazonMonitor
WHERE price BETWEEN 100 AND 300;
-- Delete monitorID 2 from the table
DELETE FROM AmazonMonitor
WHERE monitorID = 2;

-- Delete all monitors with a rating less than 4.0
DELETE FROM AmazonMonitor
WHERE rating < 4.0;

### AmazonReview Table
-- Table to store reviews tied to monitors
CREATE TABLE AmazonReview (
    reviewID INTEGER PRIMARY KEY NOT NULL,           -- unique review ID
    monitorID INTEGER,                               -- foreign key to AmazonMonitor
    username VARCHAR(100) NOT NULL,                  -- who wrote the review
    review_text TEXT NOT NULL,                       -- content of review
    rating INTEGER CHECK (rating BETWEEN 1 AND 5),   -- must be 1-5
    thumbs_up_count INTEGER,                         -- likes on review
    date_of_review DATE,                             -- when it was posted
    app_version VARCHAR(20),                         -- app version
    FOREIGN KEY (monitorID) REFERENCES AmazonMonitor(monitorID)
);

-- Adding sample reviews
INSERT INTO AmazonReview (reviewID, monitorID, username, review_text, rating, thumbs_up_count, date_of_review, app_version)
VALUES (101, 1, 'user123', 'Great monitor for work and gaming!', 5, 10, '2024-01-15', '1.2.3');

INSERT INTO AmazonReview (reviewID, monitorID, username, review_text, rating, thumbs_up_count, date_of_review, app_version)
VALUES (102, 2, 'tech_guru', 'Excellent 4K display with vibrant colors.', 5, 25, '2024-01-20', '1.3.0');
-- Increment the thumbs up count
UPDATE AmazonReview
SET thumbs_up_count = thumbs_up_count + 1
WHERE reviewID = 101;

-- Change the rating of a review
UPDATE AmazonReview
SET rating = 4
WHERE reviewID = 102;

-- Get all reviews for monitorID = 1
SELECT * FROM AmazonReview
WHERE monitorID = 1;

-- Find all perfect 5-star reviews
SELECT username, review_text
FROM AmazonReview
WHERE rating = 5;

-- Reviews that got more than 20 likes
SELECT reviewID, monitorID, username, thumbs_up_count
FROM AmazonReview
WHERE thumbs_up_count > 20;

-- Reviews submitted after a specific date
SELECT reviewID, monitorID, date_of_review
FROM AmazonReview
WHERE date_of_review > '2024-01-01';

-- Joining reviews with monitors of a specific resolution
SELECT r.reviewID, r.username, r.review_text, r.rating
FROM AmazonReview r
JOIN AmazonMonitor m ON r.monitorID = m.monitorID
WHERE m.resolution = '1920x1080';

-- Delete a specific review
DELETE FROM AmazonReview
WHERE reviewID = 102;

-- Delete all 1-star reviews
DELETE FROM AmazonReview
WHERE rating = 1;
```